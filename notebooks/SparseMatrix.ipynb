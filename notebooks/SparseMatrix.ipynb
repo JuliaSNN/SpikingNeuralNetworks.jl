{
 "neurons": [
  {
   "cell_type": "code",
   "execution_count": 1,
   "metadata": {},
   "outputs": [
    {
     "name": "stderr",
     "output_type": "stream",
     "text": [
      "\u001b[33m\u001b[1m┌ \u001b[22m\u001b[39m\u001b[33m\u001b[1mWarning: \u001b[22m\u001b[39mReplacing docs for `SpikingNeuralNetworks.IF :: Union{}` in module `SpikingNeuralNetworks`\n",
      "\u001b[33m\u001b[1m└ \u001b[22m\u001b[39m\u001b[90m@ Base.Docs docs/Docs.jl:243\u001b[39m\n",
      "WARNING: method definition for #CurrentStimulus#224 at /home/user/spiking/network_models/src/SpikingNeuralNetworks.jl/src/stimulus/current_stim.jl:21 declares type variable R but does not use it.\n"
     ]
    }
   ],
   "source": [
    "using DrWatson\n",
    "using Plots\n",
    "using IJulia\n",
    "using SpikingNeuralNetworks\n",
    "SNN.@load_units;"
   ]
  },
  {
   "cell_type": "markdown",
   "metadata": {},
   "source": [
    "## Sparse matrix representation: \n",
    "\n",
    "The sparse matrix representation uses the Julia native SparseArrays package. You can find further info in the [Julia documentation](https://docs.julialang.org/en/v1/stdlib/SparseArrays/#man-csc).\n",
    "\n",
    "Because network are expressed with matrices, we use the Compressed Sparse Column __(CSC)__ Matrix Storage format.\n",
    "The internal representation is as follows:\n",
    "\n",
    "```Julia\n",
    "struct SparseMatrixCSC{Tv,Ti<:Integer} <: AbstractSparseMatrixCSC{Tv,Ti}\n",
    "    m::Int                  # Number of rows\n",
    "    n::Int                  # Number of columns\n",
    "    colptr::Vector{Ti}      # Column j is in colptr[j]:(colptr[j+1]-1)\n",
    "    rowval::Vector{Ti}      # Row indices of stored values\n",
    "    nzval::Vector{Tv}       # Stored values, typically nonzeros\n",
    "end\n",
    "```\n",
    "\n",
    "This representation is sufficient to make any type of operation that we can think of on the matrix. This tutorial will give some snippets of code to be reused to this scope."
   ]
  },
  {
   "cell_type": "markdown",
   "metadata": {},
   "source": [
    "### Defining a Sparse Matrix with CSC\n",
    "\n",
    "To define a sparse matrix we can follow several approaches:\n",
    "1. A random matrix with random zeros defined by the probability `p`\n",
    "2. A pre-defined matrix with zeros, and thus impose a sparse representation.\n",
    "3. A zero sparse matrix and thus fill the elements we need."
   ]
  },
  {
   "cell_type": "code",
   "execution_count": 2,
   "metadata": {},
   "outputs": [],
   "source": [
    "using SparseArrays\n",
    "m = 2 # number of rows\n",
    "n = 3 # number of columns\n",
    "\n",
    "# case 1:\n",
    "p = 0.33\n",
    "A1 = sprand(m,n,p)\n",
    "\n",
    "# case 2:\n",
    "A2 = rand([0,0,1],m,n)\n",
    "A2 = sparse(A2)\n",
    "\n",
    "#case 3:\n",
    "A3 = sprand(m,n,0.)\n",
    "A3[2,2] = 1\n",
    "A3[1,3] = 1\n",
    "A3[1,2] = 1\n",
    "\n",
    ";"
   ]
  },
  {
   "cell_type": "markdown",
   "metadata": {},
   "source": [
    "### Accessing Sparse Matrices\n",
    "\n",
    "To access the sparse matrix we can use the classical matrix access \n",
    "```Julia\n",
    "A1 = sprand(2,3,0.1)\n",
    "x = A1[1,2] ...\n",
    "```\n",
    "However, most of time we want to access only the non-zero values. This can be easily done, but require so ad-hoc code. \n",
    "\n",
    "Let's define a matrix `A` and access it:"
   ]
  },
  {
   "cell_type": "code",
   "execution_count": 4,
   "metadata": {},
   "outputs": [
    {
     "data": {
      "text/plain": [
       "10×10 SparseMatrixCSC{Float64, Int64} with 4 stored entries:\n",
       "  ⋅   1.0   ⋅    ⋅    ⋅    ⋅    ⋅    ⋅    ⋅    ⋅ \n",
       "  ⋅    ⋅    ⋅    ⋅    ⋅    ⋅    ⋅    ⋅    ⋅    ⋅ \n",
       "  ⋅    ⋅    ⋅    ⋅   2.0   ⋅    ⋅    ⋅    ⋅   4.0\n",
       "  ⋅    ⋅    ⋅    ⋅    ⋅    ⋅    ⋅    ⋅    ⋅    ⋅ \n",
       "  ⋅    ⋅    ⋅    ⋅    ⋅    ⋅    ⋅    ⋅    ⋅    ⋅ \n",
       "  ⋅    ⋅    ⋅    ⋅    ⋅    ⋅    ⋅    ⋅    ⋅    ⋅ \n",
       "  ⋅    ⋅    ⋅    ⋅    ⋅    ⋅    ⋅    ⋅    ⋅    ⋅ \n",
       "  ⋅    ⋅    ⋅    ⋅   3.0   ⋅    ⋅    ⋅    ⋅    ⋅ \n",
       "  ⋅    ⋅    ⋅    ⋅    ⋅    ⋅    ⋅    ⋅    ⋅    ⋅ \n",
       "  ⋅    ⋅    ⋅    ⋅    ⋅    ⋅    ⋅    ⋅    ⋅    ⋅ "
      ]
     },
     "metadata": {},
     "output_type": "display_data"
    }
   ],
   "source": [
    "A = sprand(10,10,0.0)\n",
    "A[1,2] = 1\n",
    "A[3,5] = 2\n",
    "A[8,5] = 3\n",
    "A[3,10] =4\n",
    "\n",
    "A"
   ]
  },
  {
   "cell_type": "markdown",
   "metadata": {},
   "source": [
    "The matrix will be accessed in the column order, left-to-right, because this is the storage format of the CSC:\n",
    "\n",
    "It follows the algorithm:\n",
    "\n",
    "1. The loop goes on each index of colptr `j`\n",
    "2. It creates a range between the `colptr[j]` and  `colptr[j+1]`. This range contains all the non-zero indices in the `i` column.\n",
    "3. It loops through the indices contained in the `i` column with the temporary variable `st`.\n",
    "4. It access the non-zero values corresponding to the `st` index: (`nzval[st]`) and the row index of that value (`rowval[st]`).\n",
    "5. Finally, we have the value for the colum `i`, the value for the row `rowval[st]` and the value in the matrix `nzval[st]`"
   ]
  },
  {
   "cell_type": "code",
   "execution_count": 5,
   "metadata": {},
   "outputs": [
    {
     "name": "stdout",
     "output_type": "stream",
     "text": [
      "col: 2, st: 1, row: 1 \n",
      "value => 1.0\n",
      "col: 5, st: 2, row: 3 \n",
      "value => 2.0\n",
      "col: 5, st: 3, row: 8 \n",
      "value => 3.0\n",
      "col: 10, st: 4, row: 3 \n",
      "value => 4.0\n"
     ]
    }
   ],
   "source": [
    "@unpack colptr, nzval, rowval = A\n",
    "for j = 1:(length(colptr)-1) # column indices\n",
    "    for st in colptr[j]:(colptr[j+1]-1) # \n",
    "        println(\"col: $j, st: $st, row: $(rowval[st]) \")\n",
    "        # println(\"pre->post: $i -> $(rowval[st]) \")\n",
    "        println(\"value => $(nzval[st])\")\n",
    "    end\n",
    "end"
   ]
  },
  {
   "cell_type": "markdown",
   "metadata": {},
   "source": [
    "### Using Sparse Matrices in SNN\n",
    "\n",
    "In the example above, we have looped through the columns and found the associated non-zero values. However, sometimes we want to achieve the same operation through the rows. \n",
    "\n",
    "The package SNN defines some convenience functions to use the sparse matrix. Using the function `SNN.dsparse` you can get an additional set of iterators that allow transversing the matrix both through the columns and through the rows:\n",
    "\n",
    "```Julia\n",
    "rowptr, colptr, I, J, index, V = dsparse(W)\n",
    "```\n",
    "\n",
    "Where `I` is equivalent to `rowvals` and `V` contains all the non-zero values.\n",
    "\n",
    "The iterators for the rows are:\n",
    "```Julia\n",
    "    rowptr # pointer to the rows\n",
    "    J  # value of the colum at the index \n",
    "    index # index of the j element of the row\n",
    "```\n",
    "\n",
    "Because the values in `J` and `V` are disposed with respect to the CSC format, now we need the  `index` array to access the correct column and value\n"
   ]
  },
  {
   "cell_type": "code",
   "execution_count": 5,
   "metadata": {},
   "outputs": [
    {
     "ename": "UndefVarError",
     "evalue": "UndefVarError: `SNN` not defined",
     "output_type": "error",
     "traceback": [
      "UndefVarError: `SNN` not defined\n",
      "\n",
      "Stacktrace:\n",
      " [1] top-level scope\n",
      "   @ ~/Documents/Research/projects/eqs_network/src/SpikingNeuralNetworks.jl/notebooks/SparseMatrix.ipynb:7"
     ]
    }
   ],
   "source": [
    "A = sprand(10,10,0.0)\n",
    "A[1,5] = 1\n",
    "A[2,2] = 2\n",
    "A[2,8] = 3\n",
    "A[8,10] = 4\n",
    "\n",
    "rowptr, colptr, I, J, index, V = SNN.dsparse(A)\n",
    "for i = 1:(length(rowptr)-1) # postsynaptic indices i\n",
    "    for st = rowptr[i]:(rowptr[i+1]-1) ## \n",
    "        println(\"row: $i, st: $st, col: $(J[index[st]]) \")\n",
    "        # println(\"pre->post: $i -> $(rowval[st]) \")\n",
    "        println(\"value => $(V[index[st]])\")\n",
    "    end\n",
    "end\n",
    "\n",
    "A"
   ]
  },
  {
   "cell_type": "markdown",
   "metadata": {},
   "source": [
    "### Examples:\n",
    "\n",
    "#### Connectivity matrix\n",
    "Our matrix defines the connectivity between N pre-synaptic neurons and M post-synaptic neurons with the matrix W with dimensions M x N.\n",
    "\n",
    "__Select by pre-synaptic activity__\n",
    "Upon the spike of the pre-synaptic `i`, we update the synaptic conductance `G` of the post-synaptic neurons connected to `i`.\n"
   ]
  },
  {
   "cell_type": "code",
   "execution_count": 6,
   "metadata": {},
   "outputs": [
    {
     "name": "stdout",
     "output_type": "stream",
     "text": [
      "  [1]  =  1\n",
      "  [2]  =  2\n",
      "  [3]  =  3\n",
      "  [4]  =  4\n",
      "  [5]  =  5\n",
      "[1.0, 2.0, 3.0, 4.0, 5.0]\n"
     ]
    },
    {
     "data": {
      "text/plain": [
       "5×10 SparseMatrixCSC{Int64, Int64} with 27 stored entries:\n",
       " ⋅  ⋅  1  1  1  1  1  ⋅  1  1\n",
       " ⋅  ⋅  ⋅  ⋅  2  ⋅  1  ⋅  ⋅  1\n",
       " ⋅  1  ⋅  ⋅  3  1  1  ⋅  ⋅  1\n",
       " 1  1  1  ⋅  4  ⋅  1  1  ⋅  ⋅\n",
       " ⋅  ⋅  1  ⋅  5  1  1  1  ⋅  1"
      ]
     },
     "metadata": {},
     "output_type": "display_data"
    }
   ],
   "source": [
    "\n",
    "N = 10 #presynaptic\n",
    "M = 5 # postynaptic\n",
    "W = sparse(rand([0,1],M,N))\n",
    "\n",
    "i = 5\n",
    "## Assign the matrix W the value m at the row m, col i \n",
    "for m = 1:M\n",
    "    W[m,i] = m\n",
    "end\n",
    "\n",
    "G= zeros(M)\n",
    "firePre = falses(N)\n",
    "firePre[i] = true\n",
    "\n",
    "@unpack colptr, nzval, rowval = W\n",
    "for i = 1:(length(colptr)-1) # column indices\n",
    "    if firePre[i]\n",
    "        for st in colptr[j]:(colptr[j+1]-1) # \n",
    "            G[rowval[st]] += nzval[st]\n",
    "        end\n",
    "    end\n",
    "end\n",
    "\n",
    "println(W[:,5]) # the values\n",
    "println(G)\n",
    "W"
   ]
  },
  {
   "cell_type": "markdown",
   "metadata": {},
   "source": [
    "__Select by post-synaptic activity__\n",
    "Upon the spike of the post-synaptic `j`, we update the elegibility traces `P` of the pre-synaptic neurons connected to `j`."
   ]
  },
  {
   "cell_type": "code",
   "execution_count": 7,
   "metadata": {},
   "outputs": [
    {
     "ename": "UndefVarError",
     "evalue": "UndefVarError: `SNN` not defined",
     "output_type": "error",
     "traceback": [
      "UndefVarError: `SNN` not defined\n",
      "\n",
      "Stacktrace:\n",
      " [1] top-level scope\n",
      "   @ ~/Documents/Research/projects/eqs_network/src/SpikingNeuralNetworks.jl/notebooks/SparseMatrix.ipynb:14"
     ]
    }
   ],
   "source": [
    "N = 10 #presynaptic\n",
    "M = 5 # postynaptic\n",
    "W = sparse(rand([0,1],M,N))\n",
    "j = 2\n",
    "## Assign the matrix W the value n at the col n, row  j \n",
    "for n = 1:N\n",
    "    W[j,n] = n\n",
    "end\n",
    "\n",
    "P= zeros(N)\n",
    "firePost = falses(M)\n",
    "firePost[j] = true\n",
    "\n",
    "rowptr, colptr, I, J, index, V = SNN.dsparse(W)\n",
    "for j = 1:(length(rowptr)-1) # column indices\n",
    "    if firePost[j]\n",
    "        for st in rowptr[j]:(rowptr[j+1]-1) # \n",
    "            P[J[index[st]]] = V[index[st]]\n",
    "        end\n",
    "    end\n",
    "end\n",
    "\n",
    "println(W[j, :]) # the values\n",
    "println(P)\n",
    "W\n"
   ]
  },
  {
   "cell_type": "code",
   "execution_count": 8,
   "metadata": {},
   "outputs": [
    {
     "data": {
      "text/plain": [
       "5×10 SparseMatrixCSC{Int64, Int64} with 30 stored entries:\n",
       " ⋅  ⋅  ⋅  1  ⋅  1  ⋅  1  ⋅   1\n",
       " 1  2  3  4  5  6  7  8  9  10\n",
       " 1  1  ⋅  1  ⋅  ⋅  1  1  ⋅   ⋅\n",
       " 1  ⋅  ⋅  ⋅  ⋅  1  ⋅  ⋅  ⋅   1\n",
       " 1  1  1  ⋅  1  ⋅  1  1  1   1"
      ]
     },
     "metadata": {},
     "output_type": "display_data"
    }
   ],
   "source": [
    "W"
   ]
  },
  {
   "cell_type": "code",
   "execution_count": 9,
   "metadata": {},
   "outputs": [
    {
     "ename": "UndefVarError",
     "evalue": "UndefVarError: `rowptr` not defined",
     "output_type": "error",
     "traceback": [
      "UndefVarError: `rowptr` not defined\n"
     ]
    }
   ],
   "source": [
    "rowptr"
   ]
  },
  {
   "cell_type": "code",
   "execution_count": 10,
   "metadata": {},
   "outputs": [],
   "source": []
  }
 ],
 "metadata": {
  "kernelspec": {
   "display_name": "Julia 1.11.2",
   "language": "julia",
   "name": "julia-1.11"
  },
  "language_info": {
   "file_extension": ".jl",
   "mimetype": "application/julia",
   "name": "julia",
   "version": "1.11.2"
  }
 },
 "nbformat": 4,
 "nbformat_minor": 2
}
